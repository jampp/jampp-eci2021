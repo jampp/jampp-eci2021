{
 "cells": [
  {
   "cell_type": "markdown",
   "id": "b16fa8e3",
   "metadata": {},
   "source": [
    "# Uso del codigo"
   ]
  },
  {
   "cell_type": "code",
   "execution_count": null,
   "id": "43273ac7",
   "metadata": {},
   "outputs": [],
   "source": [
    "from floor import Floor\n",
    "from bike  import Bike\n",
    "import numpy as np\n",
    "from solver import Euler as run\n",
    "from score import score\n",
    "from evol import next_gen"
   ]
  },
  {
   "cell_type": "markdown",
   "id": "7fe0888e",
   "metadata": {},
   "source": [
    "## Creo una pista y la primera generacion de bicicletas"
   ]
  },
  {
   "cell_type": "code",
   "execution_count": null,
   "id": "7b3acad3",
   "metadata": {},
   "outputs": [],
   "source": [
    "ground = Floor()\n",
    "bike_list = [Bike() for _ in range(100)]"
   ]
  },
  {
   "cell_type": "markdown",
   "id": "483f6b69",
   "metadata": {},
   "source": [
    "## Corro todas las bicicletas y les doy un puntaje"
   ]
  },
  {
   "cell_type": "code",
   "execution_count": null,
   "id": "4ee777c0",
   "metadata": {},
   "outputs": [],
   "source": [
    "for bike in bike_list:\n",
    "    run(bike, ground)\n",
    "    score(bike)\n",
    "bike_list.sort(key=lambda x: x.score, reverse=True)"
   ]
  },
  {
   "cell_type": "code",
   "execution_count": null,
   "id": "d0776163",
   "metadata": {},
   "outputs": [],
   "source": [
    "len([bk for bk in bike_list]),np.max([bk.score for bk in bike_list]),np.median([bk.score for bk in bike_list])"
   ]
  },
  {
   "cell_type": "markdown",
   "id": "306fd6da",
   "metadata": {},
   "source": [
    "## Vemos una animacion (esto corre solo desde la terminal)"
   ]
  },
  {
   "cell_type": "code",
   "execution_count": null,
   "id": "4141928c",
   "metadata": {},
   "outputs": [],
   "source": [
    "from animation import Render\n",
    "import matplotlib.pyplot as plt\n",
    "import matplotlib.animation as animation"
   ]
  },
  {
   "cell_type": "code",
   "execution_count": null,
   "id": "633a34cd",
   "metadata": {},
   "outputs": [],
   "source": [
    "ibike = 0\n",
    "render = Render(ground, bike_list[ibike], ibike)\n",
    "ani = animation.FuncAnimation(render.fig, render.animate, init_func = render.init_line, frames = render.nframes, interval = 0.0, repeat = False, blit = True)\n",
    "plt.show()"
   ]
  },
  {
   "cell_type": "markdown",
   "id": "7a663858",
   "metadata": {},
   "source": [
    "## Evoluciono una generacion"
   ]
  },
  {
   "cell_type": "code",
   "execution_count": null,
   "id": "2edfb151",
   "metadata": {},
   "outputs": [],
   "source": [
    "bike_list = next_gen(bike_list,n_crosses=50,n_mutations=50)\n",
    "for bike in bike_list:\n",
    "    run(bike, ground)\n",
    "    score(bike)\n",
    "bike_list.sort(key=lambda x: x.score, reverse=True)"
   ]
  }
 ],
 "metadata": {
  "kernelspec": {
   "display_name": "Python 3 (ipykernel)",
   "language": "python",
   "name": "python3"
  },
  "language_info": {
   "codemirror_mode": {
    "name": "ipython",
    "version": 3
   },
   "file_extension": ".py",
   "mimetype": "text/x-python",
   "name": "python",
   "nbconvert_exporter": "python",
   "pygments_lexer": "ipython3",
   "version": "3.8.5"
  }
 },
 "nbformat": 4,
 "nbformat_minor": 5
}
