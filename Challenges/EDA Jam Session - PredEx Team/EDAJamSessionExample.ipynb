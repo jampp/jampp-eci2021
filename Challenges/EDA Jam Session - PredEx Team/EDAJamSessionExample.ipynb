{
 "cells": [
  {
   "cell_type": "markdown",
   "metadata": {},
   "source": [
    "# EDA Jam Session 🕵 "
   ]
  },
  {
   "cell_type": "markdown",
   "metadata": {},
   "source": [
    "### **Preguntas que intentaremos responder:** \n",
    "\n",
    "¿Qué sexo (género) tienen las personas que más plancharon la semana pasada? \n",
    "\n",
    "¿Qué sexo (género) tienen las personas que más respondieron realizar tareas de cultivo y cosecha de productos agrícolas o de huerta durante la semana pasada? "
   ]
  },
  {
   "cell_type": "markdown",
   "metadata": {},
   "source": [
    "#### Recolección de datos"
   ]
  },
  {
   "cell_type": "markdown",
   "metadata": {},
   "source": [
    "El dataset que vamos a usar se descarga de la siguiente [página](https://datos.gob.ar/dataset/mincyt-pisac---programa-investigacion-sobre-sociedad-argentina-contemporanea/archivo/mincyt_421a7e29-7d15-4b69-a2e8-d7242b58b770)."
   ]
  },
  {
   "cell_type": "code",
   "execution_count": null,
   "metadata": {},
   "outputs": [],
   "source": [
    "import pandas as pd"
   ]
  },
  {
   "cell_type": "code",
   "execution_count": null,
   "metadata": {},
   "outputs": [],
   "source": [
    "df = pd.read_csv(\"data/base_enespersonas.csv\", sep=\";\")"
   ]
  },
  {
   "cell_type": "markdown",
   "metadata": {},
   "source": [
    "#### Limpieza y organización de datos"
   ]
  },
  {
   "cell_type": "markdown",
   "metadata": {},
   "source": [
    "Para guiarnos con qué columnas nos interesan vamos a usar el siguiente [link](https://www.argentina.gob.ar/sites/default/files/manual_codigos_base_personas.pdf).\n",
    "\n",
    "En base a eso vamos a renombrar las columnas de interés de manera tal que lleven nombres más significativos."
   ]
  },
  {
   "cell_type": "code",
   "execution_count": null,
   "metadata": {},
   "outputs": [],
   "source": [
    "diccio = {\"v109\": \"sexo\", \"v154\": \"plancha\", \"v157\": 'cultiva'}"
   ]
  },
  {
   "cell_type": "code",
   "execution_count": null,
   "metadata": {},
   "outputs": [],
   "source": [
    "df = df.rename(columns = diccio)[diccio.values()]                   "
   ]
  },
  {
   "cell_type": "code",
   "execution_count": null,
   "metadata": {},
   "outputs": [],
   "source": [
    "def respuesta(rta):\n",
    "    \"\"\"La función recibe una respuesta\n",
    "    que debe ser un int/float y la \n",
    "    disminuye en una unidad\"\"\"\n",
    "    return rta-1"
   ]
  },
  {
   "cell_type": "code",
   "execution_count": null,
   "metadata": {},
   "outputs": [],
   "source": [
    "def nombre_genero(sexo):\n",
    "    \"\"\"Recibe el sexo y le asigna\n",
    "    1.0 en caso de que sea masculino\n",
    "    2.0 en caso de que sea femenino\n",
    "    y Otro en otro caso\"\"\"\n",
    "    if sexo == 1.0:\n",
    "        return \"Masculino\"\n",
    "    elif sexo == 2.0:\n",
    "        return \"Femenino\"\n",
    "    else:\n",
    "        return \"Otro\""
   ]
  },
  {
   "cell_type": "markdown",
   "metadata": {},
   "source": [
    "Vamos a crear las siguientes columnas:\n",
    "* nombre_genero: La columna de sexo la cambia por el nombre.\n",
    "* plancha: Le resta una unidad a la columna plancha actual para que sus valores sean 0 y 1.\n",
    "* cultiva: Le resta una unidad a la columna cultiva actual para que sus valores sean 0 y 1."
   ]
  },
  {
   "cell_type": "code",
   "execution_count": null,
   "metadata": {},
   "outputs": [],
   "source": [
    "df[\"nombre_genero\"] = df[\"sexo\"].apply(nombre_genero)"
   ]
  },
  {
   "cell_type": "code",
   "execution_count": null,
   "metadata": {},
   "outputs": [],
   "source": [
    "df[\"plancha\"] = df[\"plancha\"].apply(respuesta)"
   ]
  },
  {
   "cell_type": "code",
   "execution_count": null,
   "metadata": {},
   "outputs": [],
   "source": [
    "df[\"cultiva\"] = df[\"cultiva\"].apply(respuesta)"
   ]
  },
  {
   "cell_type": "markdown",
   "metadata": {},
   "source": [
    "Como nos interesa ver los datos por género, vamos a agrupar el dataframe por nombre_genero y calcular el valor promedio de las respuestas para cultiva y para plancha."
   ]
  },
  {
   "cell_type": "code",
   "execution_count": null,
   "metadata": {},
   "outputs": [],
   "source": [
    "df = df.groupby(by=\"nombre_genero\").mean()"
   ]
  },
  {
   "cell_type": "markdown",
   "metadata": {},
   "source": [
    "#### Análisis de datos"
   ]
  },
  {
   "cell_type": "code",
   "execution_count": null,
   "metadata": {},
   "outputs": [],
   "source": [
    "df.reset_index(level=0, inplace=True)"
   ]
  },
  {
   "cell_type": "code",
   "execution_count": null,
   "metadata": {},
   "outputs": [],
   "source": [
    "import matplotlib.pyplot as plt"
   ]
  },
  {
   "cell_type": "markdown",
   "metadata": {},
   "source": [
    "Creamos un gráfico de barras que muestre, separados por género, la respuesta promedio para plancha."
   ]
  },
  {
   "cell_type": "code",
   "execution_count": null,
   "metadata": {},
   "outputs": [],
   "source": [
    "plt.figure(figsize=(16, 4))\n",
    "plt.bar(df.nombre_genero, df.plancha, color = \"#ff633d\")\n",
    "plt.xlabel('Género')\n",
    "plt.ylabel('Promedio respuesta')\n",
    "plt.title('Plancha')\n",
    "plt.grid()"
   ]
  },
  {
   "cell_type": "markdown",
   "metadata": {},
   "source": [
    "Creamos un gráfico de barras que muestre, separados por género, la respuesta promedio para cultiva."
   ]
  },
  {
   "cell_type": "code",
   "execution_count": null,
   "metadata": {},
   "outputs": [],
   "source": [
    "plt.figure(figsize=(16, 4))\n",
    "plt.bar(df.nombre_genero, df.cultiva, color = \"#ff633d\")\n",
    "plt.xlabel('Género')\n",
    "plt.ylabel('Promedio respuesta')\n",
    "plt.title('Cultiva')\n",
    "plt.grid()"
   ]
  }
 ],
 "metadata": {
  "kernelspec": {
   "display_name": "Python 3",
   "language": "python",
   "name": "python3"
  },
  "language_info": {
   "codemirror_mode": {
    "name": "ipython",
    "version": 3
   },
   "file_extension": ".py",
   "mimetype": "text/x-python",
   "name": "python",
   "nbconvert_exporter": "python",
   "pygments_lexer": "ipython3",
   "version": "3.6.12"
  }
 },
 "nbformat": 4,
 "nbformat_minor": 4
}
