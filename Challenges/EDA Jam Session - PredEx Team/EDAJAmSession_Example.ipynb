{
 "cells": [
  {
   "cell_type": "markdown",
   "metadata": {},
   "source": [
    "# EDA Jam Session 🕵 "
   ]
  },
  {
   "cell_type": "markdown",
   "metadata": {},
   "source": [
    "### **Preguntas que intentaremos responder:** \n",
    "\n",
    "¿Qué sexo (género) tienen las personas que más plancharon la semana pasada? \n",
    "\n",
    "¿Qué sexo (género) tienen las personas que más respondieron realizar tareas de cultivo y cosecha de productos agrícolas o de huerta durante la semana pasada? "
   ]
  },
  {
   "cell_type": "markdown",
   "metadata": {},
   "source": [
    "#### Recolección de datos"
   ]
  },
  {
   "cell_type": "markdown",
   "metadata": {},
   "source": [
    "El dataset que vamos a usar se descarga de la siguiente página:\n",
    "\n",
    "https://datos.gob.ar/dataset/mincyt-pisac---programa-investigacion-sobre-sociedad-argentina-contemporanea/archivo/mincyt_421a7e29-7d15-4b69-a2e8-d7242b58b770"
   ]
  },
  {
   "cell_type": "code",
   "execution_count": null,
   "metadata": {},
   "outputs": [],
   "source": [
    "import pandas as pd"
   ]
  },
  {
   "cell_type": "code",
   "execution_count": null,
   "metadata": {},
   "outputs": [],
   "source": [
    "df = pd.read_csv(\"data/base_enespersonas.csv\", sep=';')"
   ]
  },
  {
   "cell_type": "code",
   "execution_count": null,
   "metadata": {
    "scrolled": false
   },
   "outputs": [],
   "source": [
    "df.head(20)"
   ]
  },
  {
   "cell_type": "markdown",
   "metadata": {},
   "source": [
    "#### Limpieza y organización de datos"
   ]
  },
  {
   "cell_type": "markdown",
   "metadata": {},
   "source": [
    "Para guiarnos con qué columnas nos interesan vamos a usar los siguientes links:\n",
    "\n",
    "https://datos.gob.ar/dataset/mincyt-pisac---programa-investigacion-sobre-sociedad-argentina-contemporanea/archivo/mincyt_421a7e29-7d15-4b69-a2e8-d7242b58b770\n",
    "\n",
    "https://www.argentina.gob.ar/sites/default/files/manual_codigos_base_personas.pdf"
   ]
  },
  {
   "cell_type": "code",
   "execution_count": null,
   "metadata": {},
   "outputs": [],
   "source": [
    "diccio = {\"v109\": \"sexo\", \"v154\": \"plancha\", \"v157\": 'cultiva'}"
   ]
  },
  {
   "cell_type": "code",
   "execution_count": null,
   "metadata": {},
   "outputs": [],
   "source": [
    "df.v109"
   ]
  },
  {
   "cell_type": "code",
   "execution_count": null,
   "metadata": {},
   "outputs": [],
   "source": [
    "df.v154"
   ]
  },
  {
   "cell_type": "code",
   "execution_count": null,
   "metadata": {
    "scrolled": true
   },
   "outputs": [],
   "source": [
    "df.v157"
   ]
  },
  {
   "cell_type": "code",
   "execution_count": null,
   "metadata": {},
   "outputs": [],
   "source": [
    "df = df.rename(columns = diccio)[diccio.values()]                   "
   ]
  },
  {
   "cell_type": "code",
   "execution_count": null,
   "metadata": {},
   "outputs": [],
   "source": [
    "def respuesta(rta):\n",
    "    return rta-1"
   ]
  },
  {
   "cell_type": "code",
   "execution_count": null,
   "metadata": {},
   "outputs": [],
   "source": [
    "def nombre_genero(sexo):\n",
    "    if sexo == 1.0:\n",
    "        return 'Masculino'\n",
    "    elif sexo == 2.0:\n",
    "        return 'Femenino'\n",
    "    else:\n",
    "        return 'Otro'"
   ]
  },
  {
   "cell_type": "code",
   "execution_count": null,
   "metadata": {},
   "outputs": [],
   "source": [
    "df[\"nombre_genero\"] = df[\"sexo\"].apply(nombre_genero)"
   ]
  },
  {
   "cell_type": "code",
   "execution_count": null,
   "metadata": {},
   "outputs": [],
   "source": [
    "df[\"plancha\"] = df[\"plancha\"].apply(respuesta)"
   ]
  },
  {
   "cell_type": "code",
   "execution_count": null,
   "metadata": {},
   "outputs": [],
   "source": [
    "df[\"cultiva\"] = df[\"cultiva\"].apply(respuesta)"
   ]
  },
  {
   "cell_type": "code",
   "execution_count": null,
   "metadata": {},
   "outputs": [],
   "source": [
    "df = df.groupby(by=\"nombre_genero\").mean()"
   ]
  },
  {
   "cell_type": "code",
   "execution_count": null,
   "metadata": {},
   "outputs": [],
   "source": [
    "df"
   ]
  },
  {
   "cell_type": "markdown",
   "metadata": {},
   "source": [
    "#### Análisis de datos"
   ]
  },
  {
   "cell_type": "code",
   "execution_count": null,
   "metadata": {},
   "outputs": [],
   "source": [
    "df.reset_index(level=0, inplace=True)"
   ]
  },
  {
   "cell_type": "code",
   "execution_count": null,
   "metadata": {},
   "outputs": [],
   "source": [
    "import matplotlib.pyplot as plt"
   ]
  },
  {
   "cell_type": "code",
   "execution_count": null,
   "metadata": {},
   "outputs": [],
   "source": [
    "plt.figure(figsize=(16, 4))\n",
    "plt.bar(df.nombre_genero, df.plancha, color = \"#ff633d\")\n",
    "plt.xlabel('Género')\n",
    "plt.ylabel('Promedio respuesta')\n",
    "plt.title('Plancha')\n",
    "plt.grid()"
   ]
  },
  {
   "cell_type": "code",
   "execution_count": null,
   "metadata": {},
   "outputs": [],
   "source": [
    "plt.figure(figsize=(16, 4))\n",
    "plt.bar(df.nombre_genero, df.cultiva, color = \"#ff633d\")\n",
    "plt.xlabel('Género')\n",
    "plt.ylabel('Promedio respuesta')\n",
    "plt.title('Cultiva')\n",
    "plt.grid()"
   ]
  }
 ],
 "metadata": {
  "kernelspec": {
   "display_name": "Python 3",
   "language": "python",
   "name": "python3"
  },
  "language_info": {
   "codemirror_mode": {
    "name": "ipython",
    "version": 3
   },
   "file_extension": ".py",
   "mimetype": "text/x-python",
   "name": "python",
   "nbconvert_exporter": "python",
   "pygments_lexer": "ipython3",
   "version": "3.6.12"
  }
 },
 "nbformat": 4,
 "nbformat_minor": 4
}
